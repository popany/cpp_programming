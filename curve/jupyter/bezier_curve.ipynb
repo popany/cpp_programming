{
 "cells": [
  {
   "cell_type": "code",
   "execution_count": null,
   "id": "905238f5",
   "metadata": {},
   "outputs": [],
   "source": [
    "from libcurve_py import BezierCurve, Point2D"
   ]
  },
  {
   "cell_type": "code",
   "execution_count": null,
   "id": "ce59c3bc",
   "metadata": {},
   "outputs": [],
   "source": [
    "curve = BezierCurve.create([Point2D(1, 2)])"
   ]
  },
  {
   "cell_type": "code",
   "execution_count": null,
   "id": "4f42fbb8",
   "metadata": {},
   "outputs": [],
   "source": [
    "a = curve.calc(100)"
   ]
  },
  {
   "cell_type": "code",
   "execution_count": null,
   "id": "ab779bcf",
   "metadata": {},
   "outputs": [],
   "source": [
    "a.y"
   ]
  },
  {
   "cell_type": "code",
   "execution_count": null,
   "id": "57882d23",
   "metadata": {},
   "outputs": [],
   "source": []
  }
 ],
 "metadata": {
  "kernelspec": {
   "display_name": "Python 3 (ipykernel)",
   "language": "python",
   "name": "python3"
  },
  "language_info": {
   "codemirror_mode": {
    "name": "ipython",
    "version": 3
   },
   "file_extension": ".py",
   "mimetype": "text/x-python",
   "name": "python",
   "nbconvert_exporter": "python",
   "pygments_lexer": "ipython3",
   "version": "3.8.10"
  }
 },
 "nbformat": 4,
 "nbformat_minor": 5
}
