{
 "cells": [
  {
   "cell_type": "code",
   "execution_count": null,
   "id": "670c0bad",
   "metadata": {},
   "outputs": [],
   "source": [
    "from libcurve_py import BezierCurve, Point2D"
   ]
  },
  {
   "cell_type": "code",
   "execution_count": null,
   "id": "5ee2078a",
   "metadata": {},
   "outputs": [],
   "source": [
    "curve = BezierCurve.create([Point2D(1, 2)])"
   ]
  },
  {
   "cell_type": "code",
   "execution_count": null,
   "id": "62e248f4",
   "metadata": {},
   "outputs": [],
   "source": [
    "a = curve.calc(100)"
   ]
  },
  {
   "cell_type": "code",
   "execution_count": null,
   "id": "2b03219c",
   "metadata": {},
   "outputs": [],
   "source": []
  }
 ],
 "metadata": {
  "kernelspec": {
   "display_name": "Python 3 (ipykernel)",
   "language": "python",
   "name": "python3"
  },
  "language_info": {
   "codemirror_mode": {
    "name": "ipython",
    "version": 3
   },
   "file_extension": ".py",
   "mimetype": "text/x-python",
   "name": "python",
   "nbconvert_exporter": "python",
   "pygments_lexer": "ipython3",
   "version": "3.8.10"
  }
 },
 "nbformat": 4,
 "nbformat_minor": 5
}
