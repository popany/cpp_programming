{
 "cells": [
  {
   "cell_type": "code",
   "execution_count": null,
   "id": "670c0bad",
   "metadata": {},
   "outputs": [],
   "source": [
    "from libcurve_py import BezierCurve, Point2D"
   ]
  },
  {
   "cell_type": "code",
   "execution_count": null,
   "id": "5ee2078a",
   "metadata": {},
   "outputs": [],
   "source": [
    "curve = BezierCurve.create([Point2D(1, 2)])"
   ]
  },
  {
   "cell_type": "code",
   "execution_count": null,
   "id": "62e248f4",
   "metadata": {},
   "outputs": [],
   "source": [
    "a = curve.calc(100)"
   ]
  },
  {
   "cell_type": "code",
   "execution_count": null,
   "id": "2b03219c",
   "metadata": {},
   "outputs": [],
   "source": [
    "a.y"
   ]
  },
  {
   "cell_type": "code",
   "execution_count": null,
   "id": "bb89abcd",
   "metadata": {},
   "outputs": [],
   "source": [
    "import yaml\n",
    "\n",
    "from bokeh.layouts import column\n",
    "from bokeh.models import ColumnDataSource, Spinner\n",
    "from bokeh.plotting import figure\n",
    "from bokeh.themes import Theme\n",
    "from bokeh.io import show, output_notebook\n",
    "\n",
    "output_notebook()"
   ]
  },
  {
   "cell_type": "code",
   "execution_count": null,
   "id": "b3699dcb",
   "metadata": {},
   "outputs": [],
   "source": [
    "def create_fig(title):\n",
    "    TOOLTIPS = [\n",
    "        (\"name\", \"$name\"),\n",
    "        (\"index\", \"$index\"),\n",
    "        (\"(x,y)\", \"($x{1.11}, $y{1.11})\"),\n",
    "    ]\n",
    "    WIDTH = 900\n",
    "    HEIGHT = 800\n",
    "    fig = figure(title=title,\n",
    "        x_axis_label='x',\n",
    "        y_axis_label='y',\n",
    "        match_aspect=True,\n",
    "        width=WIDTH,\n",
    "        height=HEIGHT,\n",
    "        tooltips=TOOLTIPS)\n",
    "    \n",
    "    return fig\n",
    "\n",
    "def bkapp(doc):\n",
    "    fig = create_fig(\"Bezier Curve\")\n",
    "\n",
    "    CONTROL_POINTS_COUNT_MAX = 10\n",
    "    CONTROL_POINTS_COUNT_MIN = 2\n",
    "    control_points = [Point2D(x, 0) for x in range(0, CONTROL_POINTS_COUNT_MAX)]\n",
    "    points_source = ColumnDataSource(data={'x_values': [ p.x for p in control_points[:CONTROL_POINTS_COUNT_MIN]],\n",
    "                                           'y_values': [ p.y for p in control_points[:CONTROL_POINTS_COUNT_MIN]]})\n",
    "    \n",
    "    def callback(attr, old, new):\n",
    "        points_source.data={'x_values': [ p.x for p in control_points[:new]],\n",
    "                            'y_values': [ p.y for p in control_points[:new]]}\n",
    "        \n",
    "    spinner = Spinner(title=\"Points Count\", low=2, high=CONTROL_POINTS_COUNT_MAX, step=1, value=CONTROL_POINTS_COUNT_MIN, width=80)\n",
    "    fig.circle(x='x_values', y='y_values', name='control point', source=points_source)\n",
    "    \n",
    "    spinner.on_change('value', callback)\n",
    "\n",
    "    doc.add_root(column(spinner, fig))"
   ]
  },
  {
   "cell_type": "code",
   "execution_count": null,
   "id": "06d3611c",
   "metadata": {},
   "outputs": [],
   "source": [
    "show(bkapp, notebook_url=\"http://localhost:52001\", port=52011)"
   ]
  },
  {
   "cell_type": "code",
   "execution_count": null,
   "id": "21070228",
   "metadata": {},
   "outputs": [],
   "source": []
  }
 ],
 "metadata": {
  "kernelspec": {
   "display_name": "Python 3 (ipykernel)",
   "language": "python",
   "name": "python3"
  },
  "language_info": {
   "codemirror_mode": {
    "name": "ipython",
    "version": 3
   },
   "file_extension": ".py",
   "mimetype": "text/x-python",
   "name": "python",
   "nbconvert_exporter": "python",
   "pygments_lexer": "ipython3",
   "version": "3.8.10"
  }
 },
 "nbformat": 4,
 "nbformat_minor": 5
}
